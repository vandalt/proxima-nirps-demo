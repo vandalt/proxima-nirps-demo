{
 "cells": [
  {
   "cell_type": "markdown",
   "id": "5a01888a",
   "metadata": {},
   "source": [
    "#  Quick look at NIRPS proxima data"
   ]
  },
  {
   "cell_type": "code",
   "execution_count": null,
   "id": "57ffd089",
   "metadata": {},
   "outputs": [],
   "source": [
    "from typing import List, Optional, Tuple\n",
    "\n",
    "import matplotlib.pyplot as plt\n",
    "import numpy as np\n",
    "from astropy.stats import sigma_clip\n",
    "from astropy.table import Table\n",
    "from astropy.timeseries import LombScargle\n",
    "from matplotlib.axes import Axes\n",
    "from matplotlib.figure import Figure"
   ]
  },
  {
   "cell_type": "markdown",
   "id": "53dad9d2",
   "metadata": {},
   "source": [
    "## Loading the data"
   ]
  },
  {
   "cell_type": "code",
   "execution_count": null,
   "id": "336d54f2",
   "metadata": {},
   "outputs": [],
   "source": [
    "tbl = Table.read(\"./data/lbl_PROXIMA_PROXIMA.rdb\")\n",
    "\n",
    "rv_off = np.median(tbl[\"vrad\"])\n",
    "\n",
    "tbl[\"vrad\"] -= rv_off\n",
    "\n",
    "rjd_bjd_off = 2457000\n",
    "extra_off_factor = 100\n",
    "extra_off = np.floor(tbl[\"rjd\"].min() / extra_off_factor) * extra_off_factor\n",
    "t_off = rjd_bjd_off + extra_off\n",
    "\n",
    "tlabel = \"t\"\n",
    "tbl[tlabel] = tbl[\"rjd\"] - extra_off"
   ]
  },
  {
   "cell_type": "markdown",
   "id": "87ed1ce7",
   "metadata": {},
   "source": [
    "## Timeseries and periodograms"
   ]
  },
  {
   "cell_type": "code",
   "execution_count": null,
   "id": "19c5a4d2",
   "metadata": {},
   "outputs": [],
   "source": [
    "qty_list = [\"vrad\", \"d2v\", \"d3v\", \"DTEMP\"]\n",
    "qty_labels = {\n",
    "    \"vrad\": \"RV\",\n",
    "    \"d2v\": \"D2V\",\n",
    "    \"d3v\": \"D3V\",\n",
    "    \"DTEMP\": \"$\\Delta$T\",\n",
    "}\n",
    "qty_units = {\n",
    "    \"vrad\": \"m/s\",\n",
    "    \"d2v\": \"m$^2$ / s$^2$\",\n",
    "    \"d3v\": \"m$^3$ / s$^3$\",\n",
    "    \"DTEMP\": \"K\",\n",
    "}"
   ]
  },
  {
   "cell_type": "code",
   "execution_count": null,
   "id": "0835ba5f",
   "metadata": {},
   "outputs": [],
   "source": [
    "def plot_timeseries(\n",
    "    tbl: Table,\n",
    "    qty_list: List[str],\n",
    "    plot_ls: bool = True,\n",
    "    ylog: bool = False,\n",
    "    err_label: Optional[str] = None,\n",
    "    err_fmt: str = \"k.\",\n",
    "    target_fap: float = 0.01,\n",
    "    fig: Optional[Figure] = None,\n",
    "    axes: Optional[np.ndarray[Axes]] = None,\n",
    ") -> Tuple[Figure, Axes]:\n",
    "    ncols = 2 if plot_ls else 1\n",
    "    num_qty = len(qty_list)\n",
    "\n",
    "    if fig is None:\n",
    "        fig, axes = plt.subplots(\n",
    "            nrows=num_qty,\n",
    "            ncols=ncols,\n",
    "            figsize=(12 * ncols, 3.5 * num_qty),\n",
    "            sharex=\"col\",\n",
    "            squeeze=False,\n",
    "        )\n",
    "    elif axes is None:\n",
    "        axes = np.array(fig.axes).reshape((num_qty, ncols))\n",
    "\n",
    "    for i, qty in enumerate(qty_list):\n",
    "        t = tbl[tlabel].data\n",
    "        y = tbl[qty].data\n",
    "        yerr = tbl[f\"s{qty}\"].data\n",
    "        axes[i, 0].errorbar(t, y, yerr=yerr, fmt=err_fmt, label=err_label)\n",
    "        axes[i, 0].set_ylabel(f\"{qty_labels[qty]} [{qty_units[qty]}]\")\n",
    "\n",
    "        if plot_ls:\n",
    "            ls = LombScargle(t, y, dy=yerr)\n",
    "            fap = ls.false_alarm_level(target_fap)\n",
    "            freq, power = ls.autopower(maximum_frequency=1.0)\n",
    "            period = 1 / freq\n",
    "\n",
    "            ls_window = LombScargle(\n",
    "                t, np.ones_like(y), dy=yerr, fit_mean=False, center_data=False\n",
    "            )\n",
    "            power_window = ls_window.power(freq)\n",
    "\n",
    "            axes[i, 1].plot(period, power, \"k\", label=\"Periodogram\" if i == 0 else None)\n",
    "            axes[i, 1].plot(\n",
    "                period, power_window, \"C1\", label=\"Window Function\" if i == 0 else None\n",
    "            )\n",
    "            axes[i, 1].axhline(\n",
    "                fap,\n",
    "                linestyle=\"--\",\n",
    "                color=\"r\",\n",
    "                label=f\"{target_fap}% FA level\" if i == 0 else None,\n",
    "                alpha=0.5,\n",
    "            )\n",
    "            axes[i, 1].axvline(\n",
    "                11.1888,\n",
    "                linestyle=\"--\",\n",
    "                color=\"k\",\n",
    "                label=\"Confirmed planets b and d\" if i == 0 else None,\n",
    "                alpha=0.5,\n",
    "            )\n",
    "            axes[i, 1].axvline(5.167, linestyle=\"--\", color=\"k\", alpha=0.5)\n",
    "            axes[i, 1].axvline(\n",
    "                91,\n",
    "                linestyle=\"--\",\n",
    "                color=\"C5\",\n",
    "                label=\"Rotation\" if i == 0 else None,\n",
    "                alpha=0.7,\n",
    "            )\n",
    "            axes[i, 1].axvline(\n",
    "                1900,\n",
    "                linestyle=\"--\",\n",
    "                label=\"Candidate Planet c\" if i == 0 else None,\n",
    "                alpha=0.5,\n",
    "            )\n",
    "            axes[i, 1].set_xscale(\"log\")\n",
    "            if ylog:\n",
    "                axes[i, 1].set_yscale(\"log\")\n",
    "                axes[i, 1].set_ylim((1e-2, None))\n",
    "            axes[i, 1].set_title(f\"{qty_labels[qty]} LS Periodogram\")\n",
    "            axes[i, 1].set_ylabel(\"Power\")\n",
    "            # Get handles for periodograms only\n",
    "            handles = []\n",
    "            labels = []\n",
    "            for ax in axes[:, 1].flatten():\n",
    "                handles_sub, labels_sub = ax.get_legend_handles_labels()\n",
    "                handles.extend(handles_sub)\n",
    "                labels.extend(labels_sub)\n",
    "            # Remove duplicate handles and labels\n",
    "            handles, labels = zip(\n",
    "                *sorted(set(zip(handles, labels)), key=lambda x: labels.index(x[1]))\n",
    "            )\n",
    "\n",
    "            fig.legend(handles, labels, loc=\"upper right\")\n",
    "    axes[-1, 0].set_xlabel(f\"Time [BJD - {t_off:.0f}]\")\n",
    "    if plot_ls:\n",
    "        axes[-1, 1].set_xlabel(\"Period [d]\")\n",
    "\n",
    "    return fig, axes"
   ]
  },
  {
   "cell_type": "code",
   "execution_count": null,
   "id": "a4542f21",
   "metadata": {},
   "outputs": [],
   "source": [
    "plot_timeseries(tbl, qty_list, plot_ls=True)\n",
    "plt.show()"
   ]
  },
  {
   "cell_type": "markdown",
   "id": "1fd489f3",
   "metadata": {
    "lines_to_next_cell": 2
   },
   "source": [
    "## Outlier filtering"
   ]
  },
  {
   "cell_type": "code",
   "execution_count": null,
   "id": "e49c5501",
   "metadata": {},
   "outputs": [],
   "source": [
    "def sigma_clip_tbl(\n",
    "    tbl: Table, qty_list: List[str], sigma: float = 5.0, **kwargs\n",
    ") -> np.ndarray[bool]:\n",
    "    mask = np.zeros(len(tbl), dtype=bool)\n",
    "    for qty in qty_list:\n",
    "        mask |= sigma_clip(tbl[qty], sigma=sigma, **kwargs).mask\n",
    "    return mask\n",
    "\n",
    "\n",
    "mask_sigma = sigma_clip_tbl(tbl, qty_list, sigma=5.0)"
   ]
  },
  {
   "cell_type": "code",
   "execution_count": null,
   "id": "2472ce08",
   "metadata": {
    "lines_to_next_cell": 2
   },
   "outputs": [],
   "source": [
    "fig, axes = plot_timeseries(\n",
    "    tbl[~mask_sigma], qty_list, plot_ls=False, err_label=\"Good points\"\n",
    ")\n",
    "plot_timeseries(\n",
    "    tbl[mask_sigma],\n",
    "    qty_list,\n",
    "    plot_ls=False,\n",
    "    fig=fig,\n",
    "    axes=axes,\n",
    "    err_fmt=\"rx\",\n",
    "    err_label=\"Clipped points\",\n",
    ")\n",
    "axes[0, 0].legend()\n",
    "plt.show()"
   ]
  },
  {
   "cell_type": "markdown",
   "id": "3fb66a53",
   "metadata": {
    "lines_to_next_cell": 2
   },
   "source": [
    "## Error-based filtering"
   ]
  },
  {
   "cell_type": "code",
   "execution_count": null,
   "id": "10314634",
   "metadata": {},
   "outputs": [],
   "source": [
    "def plot_error_dist(\n",
    "    tbl: Table, qty_list: List[str], quantile_cut: float = 0.95\n",
    ") -> Tuple[Figure, Axes]:\n",
    "    fig, axes = plt.subplots(ncols=len(qty_list), figsize=(24, 6))\n",
    "    for i, qty in enumerate(qty_list):\n",
    "        err_cut = np.quantile(tbl[f\"s{qty}\"], quantile_cut)\n",
    "        axes[i].hist(tbl[f\"s{qty}\"], bins=50)\n",
    "        axes[i].axvline(\n",
    "            err_cut, color=\"r\", linestyle=\"--\", label=f\"Quantile {quantile_cut}\"\n",
    "        )\n",
    "        axes[i].set_title(f\"{qty_labels[qty]} Error Histogram\")\n",
    "        axes[i].set_xlabel(f\"{qty_labels[qty]} Error [{qty_units[qty]}]\")\n",
    "    axes[0].legend()\n",
    "    return fig, axes\n",
    "\n",
    "\n",
    "def error_quantile_clip(\n",
    "    tbl: Table, qty_list: List[str], quantile_cut: float = 0.95\n",
    ") -> np.ndarray[bool]:\n",
    "    mask = np.zeros(len(tbl), dtype=bool)\n",
    "    for qty in qty_list:\n",
    "        err_cut = np.quantile(tbl[f\"s{qty}\"], quantile_cut)\n",
    "        mask |= tbl[f\"s{qty}\"] > err_cut\n",
    "    return mask"
   ]
  },
  {
   "cell_type": "code",
   "execution_count": null,
   "id": "2132bb68",
   "metadata": {},
   "outputs": [],
   "source": [
    "quantile_cut = 0.96\n",
    "plot_error_dist(tbl, qty_list, quantile_cut)\n",
    "plt.show()\n",
    "\n",
    "mask_equant = error_quantile_clip(tbl, qty_list, quantile_cut)"
   ]
  },
  {
   "cell_type": "code",
   "execution_count": null,
   "id": "eb9b0e7d",
   "metadata": {},
   "outputs": [],
   "source": [
    "mask = mask_sigma | mask_equant\n",
    "fig, axes = plot_timeseries(tbl[~mask], qty_list, plot_ls=True, err_label=\"Good points\")\n",
    "plot_timeseries(\n",
    "    tbl[mask_sigma],\n",
    "    qty_list,\n",
    "    plot_ls=False,\n",
    "    fig=fig,\n",
    "    axes=axes,\n",
    "    err_fmt=\"rx\",\n",
    "    err_label=\"Sigma-clipped points\",\n",
    ")\n",
    "plot_timeseries(\n",
    "    tbl[mask_equant],\n",
    "    qty_list,\n",
    "    plot_ls=False,\n",
    "    fig=fig,\n",
    "    axes=axes,\n",
    "    err_fmt=\"bx\",\n",
    "    err_label=\"Error-clipped points\",\n",
    ")\n",
    "axes[0, 0].legend()\n",
    "plt.show()"
   ]
  },
  {
   "cell_type": "code",
   "execution_count": null,
   "id": "ed29cf43",
   "metadata": {},
   "outputs": [],
   "source": [
    "tbl.write(\"./data/lbl_PROXIMA_PROXIMA_preprocessed.rdb\")"
   ]
  }
 ],
 "metadata": {
  "jupytext": {
   "cell_metadata_filter": "-all",
   "main_language": "python",
   "notebook_metadata_filter": "-all"
  }
 },
 "nbformat": 4,
 "nbformat_minor": 5
}
