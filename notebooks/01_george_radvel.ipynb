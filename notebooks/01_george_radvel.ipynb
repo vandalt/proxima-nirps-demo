{
 "cells": [
  {
   "cell_type": "markdown",
   "id": "2f68fad0",
   "metadata": {},
   "source": [
    "# Activity and RV modelling with george, celerite, and RadVel"
   ]
  },
  {
   "cell_type": "code",
   "execution_count": null,
   "id": "6457b7d9",
   "metadata": {},
   "outputs": [],
   "source": [
    "import pprint\n",
    "\n",
    "import arviz as az\n",
    "import corner\n",
    "import emcee\n",
    "import george\n",
    "import matplotlib.pyplot as plt\n",
    "import numpy as np\n",
    "import radvel\n",
    "import scipy.optimize as op\n",
    "from astropy.table import Table\n",
    "from george import kernels\n",
    "from george.gp import LinAlgError\n",
    "from radvel.plot import mcmc_plots, orbit_plots"
   ]
  },
  {
   "cell_type": "markdown",
   "id": "f2f5afef",
   "metadata": {},
   "source": [
    "## Loading the data\n",
    "We'll use the full (non-binned) preprocessed lbl table produced by `00_quicklook.py`\n",
    "\n",
    "We'll use the \"rjd\" for time and remove an extra offset to have time close to 0.\n",
    "The median is already subtracted from the RVs.\n",
    "We'll use `DTEMP` as an activity indicator, but feel free to change this to another\n",
    "quantity to explore how it affects the fit."
   ]
  },
  {
   "cell_type": "code",
   "execution_count": null,
   "id": "db7988f6",
   "metadata": {},
   "outputs": [],
   "source": [
    "tbl = Table.read(\"./data/lbl_PROXIMA_PROXIMA_preprocessed.rdb\")\n",
    "\n",
    "rjd_bjd_off = 2457000\n",
    "extra_off_factor = 100\n",
    "extra_off = np.floor(tbl[\"rjd\"].min() / extra_off_factor) * extra_off_factor\n",
    "t_off = rjd_bjd_off + extra_off\n",
    "\n",
    "tlabel = \"t\"\n",
    "tbl[tlabel] = tbl[\"rjd\"] - extra_off\n",
    "\n",
    "t = tbl[tlabel].data\n",
    "t_mod = np.linspace(t.min(), t.max(), num=1000)\n",
    "vrad = tbl[\"vrad\"].data\n",
    "svrad = tbl[\"svrad\"].data\n",
    "act = tbl[\"DTEMP\"].data\n",
    "sact = tbl[\"sDTEMP\"].data\n",
    "act -= np.median(act)"
   ]
  },
  {
   "cell_type": "markdown",
   "id": "e8e17415",
   "metadata": {},
   "source": [
    "## Activity modelling"
   ]
  },
  {
   "cell_type": "code",
   "execution_count": null,
   "id": "9796ff17",
   "metadata": {},
   "outputs": [],
   "source": [
    "plt.figure(figsize=(10, 6))\n",
    "plt.errorbar(t, act, yerr=sact, fmt=\"k.\")\n",
    "plt.ylabel(\"$\\Delta$T [K]\")\n",
    "plt.xlabel(f\"Time [BJD - {t_off:.0f}]\")\n",
    "plt.show()"
   ]
  },
  {
   "cell_type": "markdown",
   "id": "a42849ad",
   "metadata": {},
   "source": [
    "### Defining a GP model\n",
    "We'll define our first GP model with `george`. The package is in maintenance mode and\n",
    "there are more efficient and modern alternatives (including some by the same authors),\n",
    "but it is still extensively used and provides a simple interface to understand how GPs\n",
    "work in practice.\n",
    "\n",
    "We first need to define a covariance function. We'll use a quasi-periodic kernel made\n",
    "of a square exponential and a periodic kernel. This is one of the first kernels that\n",
    "were used for this type of work."
   ]
  },
  {
   "cell_type": "code",
   "execution_count": null,
   "id": "3a59f306",
   "metadata": {},
   "outputs": [],
   "source": [
    "amp = np.std(act)\n",
    "length_scale = 100.0\n",
    "gamma = 1.0\n",
    "mean_val = np.mean(act)\n",
    "log_wn_var = np.log(0.1**2)\n",
    "log_period = np.log(91.0)\n",
    "ker_sqexp = kernels.ExpSquaredKernel(metric=length_scale**2)  # note the **2 here\n",
    "ker_per = kernels.ExpSine2Kernel(gamma=gamma, log_period=log_period)\n",
    "kernel = amp**2 * ker_sqexp * ker_per"
   ]
  },
  {
   "cell_type": "markdown",
   "id": "1377a8c4",
   "metadata": {},
   "source": [
    "Now, we define a GP object which will take the kernel function as an input.\n",
    "We don't expect a \"mean\" model in the activity, so we'll just use a constant here.\n",
    "Also, the `white_noise` argument enables specifying an extra noise term applied to\n",
    "the diagonal of the GP (to inflate the error bars in a constant manner, note we could\n",
    "also add this to the errors directly in a separate likelihood function if we wanted)."
   ]
  },
  {
   "cell_type": "code",
   "execution_count": null,
   "id": "bc638d8b",
   "metadata": {},
   "outputs": [],
   "source": [
    "gp = george.GP(\n",
    "    kernel,\n",
    "    mean=mean_val,\n",
    "    fit_mean=True,\n",
    "    white_noise=log_wn_var,\n",
    "    fit_white_noise=True,\n",
    "    # fit_white_noise=False,\n",
    ")\n",
    "# This pre-compute the covariance matrix\n",
    "gp.compute(t, yerr=sact)\n",
    "# We can then compute the marginal GP likelihood based on our data\n",
    "print(gp.log_likelihood(act))\n",
    "pprint.pprint(gp.get_parameter_dict())\n",
    "parameter_guess = np.array(\n",
    "    [\n",
    "        mean_val,\n",
    "        log_wn_var,\n",
    "        amp,\n",
    "        np.log(length_scale**2),\n",
    "        gamma,\n",
    "        log_period,\n",
    "    ]\n",
    ")"
   ]
  },
  {
   "cell_type": "code",
   "execution_count": null,
   "id": "39524cb1",
   "metadata": {},
   "outputs": [],
   "source": [
    "mu, var = gp.predict(act, t_mod, return_var=True)\n",
    "std = np.sqrt(var)"
   ]
  },
  {
   "cell_type": "code",
   "execution_count": null,
   "id": "b80135cd",
   "metadata": {},
   "outputs": [],
   "source": [
    "plt.figure(figsize=(10, 6))\n",
    "plt.errorbar(t, act, yerr=sact, fmt=\"k.\")\n",
    "plt.plot(t_mod, mu)\n",
    "plt.fill_between(t_mod, mu - std, mu + std, alpha=0.2, color=\"C0\")\n",
    "plt.ylabel(\"$\\Delta$T [K]\")\n",
    "plt.xlabel(f\"Time [BJD - {t_off:.0f}]\")\n",
    "plt.show()"
   ]
  },
  {
   "cell_type": "markdown",
   "id": "b0a66d92",
   "metadata": {
    "lines_to_next_cell": 2
   },
   "source": [
    "Not bad for a first guess! Remember: the GP adapts its fit based on the data and the\n",
    "hyperparameters.\n",
    "\n",
    "Try varying the guessed hyperparameter values to see how they affect the fit.\n",
    "What does lambda do? What about gamma?\n",
    "\n",
    "### Hyperparameter optimization\n",
    "We can now optimize the hyperparameters with scipy to get the best-fit model."
   ]
  },
  {
   "cell_type": "code",
   "execution_count": null,
   "id": "fa4c7864",
   "metadata": {},
   "outputs": [],
   "source": [
    "def nll(p: np.ndarray[float]) -> float:\n",
    "    gp.set_parameter_vector(p)\n",
    "    ll = gp.log_likelihood(act, quiet=True)\n",
    "    return -ll if np.isfinite(ll) else 1e25\n",
    "\n",
    "\n",
    "gp.compute(t, sact)\n",
    "\n",
    "print(f\"Initial log-likelihood: {gp.log_likelihood(act)}\")\n",
    "print(\"Initial parameters:\")\n",
    "pprint.pprint(gp.get_parameter_dict())"
   ]
  },
  {
   "cell_type": "code",
   "execution_count": null,
   "id": "0ed35828",
   "metadata": {},
   "outputs": [],
   "source": [
    "p0 = gp.get_parameter_vector()\n",
    "results = op.minimize(nll, p0, method=\"Powell\")"
   ]
  },
  {
   "cell_type": "code",
   "execution_count": null,
   "id": "2cfc2b59",
   "metadata": {},
   "outputs": [],
   "source": [
    "results"
   ]
  },
  {
   "cell_type": "code",
   "execution_count": null,
   "id": "8a2939fe",
   "metadata": {},
   "outputs": [],
   "source": [
    "gp.set_parameter_vector(results.x)\n",
    "print(f\"Final log-likelihood: {gp.log_likelihood(act)}\")\n",
    "print(\"Final parameters:\")\n",
    "pprint.pprint(gp.get_parameter_dict())"
   ]
  },
  {
   "cell_type": "code",
   "execution_count": null,
   "id": "ef558ace",
   "metadata": {},
   "outputs": [],
   "source": [
    "mu, var = gp.predict(act, t_mod, return_var=True)\n",
    "std = np.sqrt(var)"
   ]
  },
  {
   "cell_type": "code",
   "execution_count": null,
   "id": "0ea63358",
   "metadata": {},
   "outputs": [],
   "source": [
    "plt.figure(figsize=(10, 6))\n",
    "plt.errorbar(t, act, yerr=sact, fmt=\"k.\")\n",
    "plt.plot(t_mod, mu)\n",
    "plt.fill_between(t_mod, mu - std, mu + std, alpha=0.2, color=\"C0\")\n",
    "plt.ylabel(\"$\\Delta$T [K]\")\n",
    "plt.xlabel(f\"Time [BJD - {t_off:.0f}]\")\n",
    "plt.show()"
   ]
  },
  {
   "cell_type": "markdown",
   "id": "8c8700a4",
   "metadata": {},
   "source": [
    "Note how the gamma parameter is larger than our initial guess for the best fit.\n",
    "This means the likelihood is improved by giving more flexibility to the model\n",
    "to handle short term variations. There is still a periodicity around 90 days.\n",
    "\n",
    "### Hyperparameter sampling\n",
    "Here, we'll use `emcee` to sample the posterior distribution of our simple model.\n",
    "We could also use `george` with a nested sampling package, but it would require\n",
    "implementing a prior transform, which I won't get into here.\n",
    "\n",
    "First, we'll need to define our prior distribution.\n",
    "I'll print the order of parameters in the next cell for convenience,\n",
    "then define distributions and the  model prior."
   ]
  },
  {
   "cell_type": "code",
   "execution_count": null,
   "id": "a88332ce",
   "metadata": {},
   "outputs": [],
   "source": [
    "pprint.pprint(gp.get_parameter_dict())"
   ]
  },
  {
   "cell_type": "code",
   "execution_count": null,
   "id": "99f49eca",
   "metadata": {},
   "outputs": [],
   "source": [
    "def gaussian_logp(x: float, mu: float, sigma: float) -> float:\n",
    "    # Copied from radvel for convenience\n",
    "    return -0.5 * ((x - mu) / sigma) ** 2 - 0.5 * np.log((sigma**2) * 2.0 * np.pi)\n",
    "\n",
    "\n",
    "def uniform_logp(x: float, minval: float, maxval: float) -> float:\n",
    "    # Copied from radvel for convenience\n",
    "    if x <= minval or x >= maxval:\n",
    "        return -np.inf\n",
    "    else:\n",
    "        return -np.log(maxval - minval)\n",
    "\n",
    "\n",
    "def jeffreys_logp(x: float, minval: float, maxval: float) -> float:\n",
    "    # Copied from radvel for convenience\n",
    "    normalization = 1.0 / np.log(maxval / minval)\n",
    "    if x < minval or x > maxval:\n",
    "        return -np.inf\n",
    "    else:\n",
    "        return np.log(normalization) - np.log(x)\n",
    "\n",
    "\n",
    "def mod_jeffreys_logp(x: float, minval: float, maxval: float, kneeval: float) -> float:\n",
    "    normalization = 1.0 / np.log((maxval - kneeval) / (minval - kneeval))\n",
    "    if (x > maxval) or (x < minval):\n",
    "        return -np.inf\n",
    "    else:\n",
    "        return np.log(normalization) - np.log(x - kneeval)\n",
    "\n",
    "\n",
    "def log_prior(p: np.ndarray) -> float:\n",
    "    log_prob = 0.0\n",
    "    # Mean with wide prior around 0\n",
    "    log_prob += gaussian_logp(p[0], 0.0, 5.0)\n",
    "    # Log White noise: Uniform\n",
    "    log_prob += uniform_logp(p[1], -5.0, 5.0)\n",
    "    # Log Variance: Uniform\n",
    "    log_prob += uniform_logp(p[2], -10.0, 10.0)\n",
    "    # Log metric (lambda**2): Uniform\n",
    "    log_prob += uniform_logp(p[3], 6.0, 20.0)\n",
    "    # Gamma: Jeffreys prior\n",
    "    log_prob += jeffreys_logp(p[4], 1.0, np.exp(10.0))\n",
    "    # Log Period: Uniform\n",
    "    log_prob += uniform_logp(p[5], np.log(60), np.log(120))\n",
    "\n",
    "    return log_prob\n",
    "\n",
    "\n",
    "def log_post(p: np.ndarray) -> float:\n",
    "    log_prob = log_prior(p)\n",
    "    if np.isfinite(log_prob):\n",
    "        gp.set_parameter_vector(p)\n",
    "        return log_prob + gp.log_likelihood(act, quiet=True)\n",
    "    return -np.inf"
   ]
  },
  {
   "cell_type": "markdown",
   "id": "4b5e21a5",
   "metadata": {},
   "source": [
    "Now that we have defined our probabilistic model, we can do inference on the\n",
    "parameters.\n",
    "\n",
    "First, let's do a quick check that our prior is what we expect and gives models that\n",
    "look OK. This is called a prior predictive check.\n",
    "\n",
    "We'll use corner and Arviz to visualize our posterior."
   ]
  },
  {
   "cell_type": "code",
   "execution_count": null,
   "id": "e9cc9b25",
   "metadata": {},
   "outputs": [],
   "source": [
    "nwalkers, ndim = 32, len(gp)\n",
    "num_warmup = 200\n",
    "num_prior_samples = 10_000\n",
    "sampler_prior = emcee.EnsembleSampler(\n",
    "    nwalkers,\n",
    "    ndim,\n",
    "    log_prior,\n",
    ")\n",
    "\n",
    "p0 = gp.get_parameter_vector() + 1e-4 * np.random.randn(nwalkers, ndim)"
   ]
  },
  {
   "cell_type": "code",
   "execution_count": null,
   "id": "671c4db8",
   "metadata": {},
   "outputs": [],
   "source": [
    "print(\"Running prior predictive check\")\n",
    "sampler_prior.run_mcmc(p0, num_prior_samples + num_warmup, progress=True)\n",
    "print(\"Done\")"
   ]
  },
  {
   "cell_type": "code",
   "execution_count": null,
   "id": "cacc0273",
   "metadata": {},
   "outputs": [],
   "source": [
    "prior_samples = sampler_prior.get_chain(discard=num_warmup)"
   ]
  },
  {
   "cell_type": "code",
   "execution_count": null,
   "id": "a3386ec8",
   "metadata": {},
   "outputs": [],
   "source": [
    "converted_prior_samples = {\n",
    "    gp.get_parameter_names()[i]: np.swapaxes(prior_samples[..., i], 0, 1)\n",
    "    for i in range(len(gp))\n",
    "}\n",
    "plt.show()\n",
    "prior_inf_data = az.from_dict(converted_prior_samples)"
   ]
  },
  {
   "cell_type": "code",
   "execution_count": null,
   "id": "81c01e70",
   "metadata": {},
   "outputs": [],
   "source": [
    "corner.corner(prior_inf_data)\n",
    "plt.show()"
   ]
  },
  {
   "cell_type": "code",
   "execution_count": null,
   "id": "4276f966",
   "metadata": {},
   "outputs": [],
   "source": [
    "az.plot_trace(prior_inf_data)\n",
    "plt.show()"
   ]
  },
  {
   "cell_type": "code",
   "execution_count": null,
   "id": "57667c3b",
   "metadata": {},
   "outputs": [],
   "source": [
    "num_display = 50\n",
    "maxiter = 100\n",
    "niter = 0\n",
    "model_prior_samples = []\n",
    "while niter < maxiter and len(model_prior_samples) < num_display:\n",
    "    w = np.random.randint(nwalkers)\n",
    "    n = np.random.randint(num_prior_samples)\n",
    "    gp.set_parameter_vector(prior_samples[n, w])\n",
    "    try:\n",
    "        model_prior_samples.append(gp.sample_conditional(act, t_mod))\n",
    "    except LinAlgError:\n",
    "        print(\"LinAlgError\")\n",
    "        print(f\"iteration {niter}\")\n",
    "        print(\"GP hyperparameters:\")\n",
    "        pprint.pprint(gp.get_parameter_dict())\n",
    "    niter += 1"
   ]
  },
  {
   "cell_type": "code",
   "execution_count": null,
   "id": "42dca841",
   "metadata": {},
   "outputs": [],
   "source": [
    "model_prior_samples = np.array(model_prior_samples)"
   ]
  },
  {
   "cell_type": "code",
   "execution_count": null,
   "id": "a1d9e4db",
   "metadata": {},
   "outputs": [],
   "source": [
    "plt.figure(figsize=(10, 6))\n",
    "plt.plot(t_mod, model_prior_samples.T, alpha=0.5)\n",
    "plt.errorbar(t, act, yerr=sact, fmt=\"k.\")\n",
    "plt.ylabel(\"$\\Delta$T [K]\")\n",
    "plt.xlabel(f\"Time [BJD - {t_off:.0f}]\")\n",
    "plt.show()"
   ]
  },
  {
   "cell_type": "markdown",
   "id": "449f0f0b",
   "metadata": {},
   "source": [
    "The prior models don't all look great, but they widely encompass the data and they do\n",
    "not raise linear algebra errors.\n",
    "\n",
    "We can now sample the posterior distribution with `emcee`. I'm using the `DEMove()` to\n",
    "propose steps as it seems to help with the sampling in this case"
   ]
  },
  {
   "cell_type": "code",
   "execution_count": null,
   "id": "c66ab6ec",
   "metadata": {},
   "outputs": [],
   "source": [
    "nwalkers, ndim = 32, len(gp)\n",
    "num_warmup = 600\n",
    "num_samples = 10_000\n",
    "sampler_act = emcee.EnsembleSampler(\n",
    "    nwalkers,\n",
    "    ndim,\n",
    "    log_post,\n",
    "    # moves=[emcee.moves.StretchMove()]\n",
    "    moves=[emcee.moves.DEMove()],\n",
    ")\n",
    "\n",
    "gp.compute(t, yerr=sact)\n",
    "\n",
    "gp.set_parameter_vector(results.x)\n",
    "p0 = gp.get_parameter_vector() + 1e-4 * np.random.randn(nwalkers, ndim)"
   ]
  },
  {
   "cell_type": "code",
   "execution_count": null,
   "id": "e885a9fd",
   "metadata": {},
   "outputs": [],
   "source": [
    "print(\"Running sampling\")\n",
    "sampler_act.run_mcmc(p0, num_samples + num_warmup, progress=True)\n",
    "print(\"Done\")"
   ]
  },
  {
   "cell_type": "code",
   "execution_count": null,
   "id": "60c952e7",
   "metadata": {},
   "outputs": [],
   "source": [
    "fig, axes = plt.subplots(ndim, figsize=(10, 7), sharex=True)\n",
    "samples = sampler_act.get_chain()\n",
    "labels = gp.get_parameter_names()\n",
    "for i in range(ndim):\n",
    "    ax = axes[i]\n",
    "    ax.plot(samples[:, :, i], \"k\", alpha=0.3)\n",
    "    ax.set_xlim(0, len(samples))\n",
    "    ax.set_ylabel(labels[i])\n",
    "    ax.yaxis.set_label_coords(-0.1, 0.5)\n",
    "axes[-1].set_xlabel(\"step number\")\n",
    "plt.show()"
   ]
  },
  {
   "cell_type": "markdown",
   "id": "64088a23",
   "metadata": {},
   "source": [
    "Arviz can convert emcee posterior samples to an InferenceData object, which\n",
    "facilitates summarizing, analyzing and plotting the results, and it provides\n",
    "a common interface for multiple samplers. The next two lines extract samples\n",
    "from emcee and remove warm-up steps."
   ]
  },
  {
   "cell_type": "code",
   "execution_count": null,
   "id": "3007615b",
   "metadata": {},
   "outputs": [],
   "source": [
    "inf_data = az.from_emcee(sampler_act, var_names=gp.get_parameter_names())\n",
    "inf_data = inf_data.sel(draw=slice(num_warmup, None))"
   ]
  },
  {
   "cell_type": "code",
   "execution_count": null,
   "id": "acf61366",
   "metadata": {},
   "outputs": [],
   "source": [
    "inf_data.to_netcdf(\"inf_data_act.nc\")"
   ]
  },
  {
   "cell_type": "code",
   "execution_count": null,
   "id": "d76bbfc7",
   "metadata": {},
   "outputs": [],
   "source": [
    "inf_data = az.from_netcdf(\"inf_data_act.nc\")"
   ]
  },
  {
   "cell_type": "code",
   "execution_count": null,
   "id": "4661a2e5",
   "metadata": {},
   "outputs": [],
   "source": [
    "az.summary(inf_data)"
   ]
  },
  {
   "cell_type": "code",
   "execution_count": null,
   "id": "5a5b8b39",
   "metadata": {},
   "outputs": [],
   "source": [
    "az.plot_trace(inf_data)\n",
    "plt.show()"
   ]
  },
  {
   "cell_type": "code",
   "execution_count": null,
   "id": "f68d72ef",
   "metadata": {},
   "outputs": [],
   "source": [
    "corner.corner(inf_data, show_titles=True, quantiles=[0.16, 0.5, 0.84])\n",
    "plt.show()"
   ]
  },
  {
   "cell_type": "markdown",
   "id": "638a78c5",
   "metadata": {},
   "source": [
    "Looking at the plots above, we see that this combination of GP kernel and\n",
    "hyperparameter might not be the best suited for this problem: the R-hat\n",
    "statistic is not very close to 1 and the chains appear to get stuck in some\n",
    "places. For now I will keep this model and continue with the RV modelling, but\n",
    "here are a few ideas to explore:\n",
    "- Try another sampler (nested sampling, No-U-Turn-Sampling with PyMC+exoplanet, etc.)\n",
    "- Explore emcee options (e.g. Moves) to see if it improves the sampling\n",
    "- Explore if other priors yield better/different results.\n",
    "- Try another kernel, either by changing the structure of your george model above or\n",
    "  by using celerite, celerite2, tinygp or another package.\n",
    "  - Celerite almost has the same interface as george, but supports a specific class\n",
    "    of kernels which provide more efficient calculation. Most kernels there are quasi-periodic which\n",
    "    is great for our use-case.\n",
    "  - `tinygp` and `celerite2` can be seen as more modern versions of `george` and `celerite`.\n",
    "    They support autodifferentiation frameworks (gradients \"for free\"!).\n",
    "\n",
    "## RV Modelling\n",
    "Now that we have a model for the activity, we can use this as prior knowledge for the\n",
    "RV modelling.\n",
    "\n",
    "As mentioned above, we will use RadVel in this section: it is well tested, provides\n",
    "a simple interface, and supports GPs out of the box.\n",
    "\n",
    "The flexibility of the RadVel GP models is somewhat limited, but new kernels can\n",
    "technically be added by implementing custom classes."
   ]
  },
  {
   "cell_type": "code",
   "execution_count": null,
   "id": "ceedfa05",
   "metadata": {},
   "outputs": [],
   "source": [
    "pprint.pprint(radvel.gp.KERNELS)"
   ]
  },
  {
   "cell_type": "code",
   "execution_count": null,
   "id": "7f068c20",
   "metadata": {},
   "outputs": [],
   "source": [
    "# We need to declare parameters for our GP likelihood a few cells below\n",
    "hnames = [\n",
    "    \"gp_amp\",  # eta_1; GP variability amplitude\n",
    "    \"gp_explength\",  # eta_2; GP non-periodic characteristic length\n",
    "    \"gp_per\",  # eta_3; GP variability period\n",
    "    \"gp_perlength\",  # eta_4; GP periodic characteristic length\n",
    "]"
   ]
  },
  {
   "cell_type": "markdown",
   "id": "3a5ea7d8",
   "metadata": {},
   "source": [
    "### Converting samples from the activity model\n",
    "The activity model we used above used the default George parametrization.\n",
    "In practice we would probably want to implement GP kernels with the same\n",
    "parameterization for activity indicators and RV. However, we can still\n",
    "use our activity model as a prior by converting posterior samples.\n",
    "\n",
    "The equation for the RadVel QP kernel can be found [in the docs](https://radvel.readthedocs.io/en/latest/gp.html).\n",
    "The same is true for [george kernels](https://george.readthedocs.io/en/latest/user/kernels/).\n",
    "From the equations there, we can derive posteriors corresponding to RadVel parameters. This\n",
    "is simple with Arviz InferenceData"
   ]
  },
  {
   "cell_type": "code",
   "execution_count": null,
   "id": "180fb59a",
   "metadata": {},
   "outputs": [],
   "source": [
    "inf_post = inf_data.posterior\n",
    "inf_post[\"gp_explength\"] = np.sqrt(2 * np.exp(inf_post[\"kernel:k1:k2:metric:log_M_0_0\"]))\n",
    "inf_post[\"gp_per\"] = np.exp(inf_post[\"kernel:k2:log_period\"])\n",
    "inf_post[\"gp_perlength\"] = np.sqrt(0.5 / inf_post[\"kernel:k2:gamma\"])"
   ]
  },
  {
   "cell_type": "code",
   "execution_count": null,
   "id": "a5d9aefb",
   "metadata": {},
   "outputs": [],
   "source": [
    "corner.corner(\n",
    "    inf_data,\n",
    "    var_names=[\"gp_explength\", \"gp_per\", \"gp_perlength\"],\n",
    "    show_titles=True,\n",
    "    quantiles=[0.16, 0.5, 0.84],\n",
    ")\n",
    "plt.show()"
   ]
  },
  {
   "cell_type": "markdown",
   "id": "22e2ec4b",
   "metadata": {},
   "source": [
    "### Defining the RV model\n",
    "A RadVel model contains the following components:\n",
    "- A set of parameters\n",
    "- A `Model` object defining the forward model\n",
    "- A `Likelihood` object (chi2 or GP)\n",
    "- A `Posterior`, which combines the likelihood with priors.\n",
    "\n",
    "Let us start by initializing the parameters"
   ]
  },
  {
   "cell_type": "code",
   "execution_count": null,
   "id": "64b5895c",
   "metadata": {},
   "outputs": [],
   "source": [
    "nplanets = 1\n",
    "# The basis determines the orbit parametrization\n",
    "params = radvel.Parameters(nplanets, basis=\"per tc secosw sesinw k\")\n",
    "\n",
    "# Orbit parameters\n",
    "p_orb_guess = 12.0  # Not too far from real value\n",
    "tc_guess = 202  # Selected to avoid phase-wrapping issues\n",
    "params[\"per1\"] = radvel.Parameter(value=p_orb_guess)\n",
    "params[\"tc1\"] = radvel.Parameter(value=tc_guess)\n",
    "params[\"sesinw1\"] = radvel.Parameter(value=0.0, vary=False)  # fix e = 0 for now\n",
    "params[\"secosw1\"] = radvel.Parameter(value=0.0, vary=False)\n",
    "params[\"k1\"] = radvel.Parameter(value=1.3)\n",
    "\n",
    "# GP parameters\n",
    "params[\"gp_amp\"] = radvel.Parameter(value=25.0)\n",
    "# Length scale parameters are derived from activity indicator\n",
    "params[\"gp_explength\"] = radvel.Parameter(\n",
    "    value=inf_post.quantile(0.5)[\"gp_explength\"].item()\n",
    ")\n",
    "params[\"gp_per\"] = radvel.Parameter(value=inf_post.quantile(0.5)[\"gp_per\"].item())\n",
    "params[\"gp_perlength\"] = radvel.Parameter(\n",
    "    value=inf_post.quantile(0.5)[\"gp_perlength\"].item()\n",
    ")\n",
    "\n",
    "# The RV model is built from the parameters, but adds\n",
    "# a trend and a quadratic variation to the model. We fix  them to 0.\n",
    "mod = radvel.RVModel(params)\n",
    "mod.params[\"dvdt\"] = radvel.Parameter(value=0.0, vary=False)\n",
    "mod.params[\"curv\"] = radvel.Parameter(value=0.0, vary=False)"
   ]
  },
  {
   "cell_type": "markdown",
   "id": "6b28f0c5",
   "metadata": {},
   "source": [
    "When the model includes GPs, we use `GPLikelihood` instead of `Likelhood`.\n",
    "Here we combine the model, the data, and the GP info.\n",
    "\n",
    "The \"jit\" parameter is a white noise term. Gamma is the RV offset."
   ]
  },
  {
   "cell_type": "code",
   "execution_count": null,
   "id": "9cf03050",
   "metadata": {},
   "outputs": [],
   "source": [
    "like = radvel.likelihood.GPLikelihood(\n",
    "    mod, t, vrad, svrad, hnames, kernel_name=\"QuasiPer\"\n",
    ")\n",
    "like.params[\"gamma\"] = radvel.Parameter(value=0.0, vary=True)\n",
    "like.params[\"jit\"] = radvel.Parameter(value=1.0)"
   ]
  },
  {
   "cell_type": "markdown",
   "id": "3df6f0c0",
   "metadata": {},
   "source": [
    "We can now create a posterior object from the likelihood and combine\n",
    "it with priors.\n",
    "\n",
    "For orbit parameters, we use weakly informative priors.\n",
    "For the GP length scales, however, we use gaussian distributions\n",
    "derived from the activity posteriors.\n",
    "Note that this is not ideal: we would want a more flexibile distribution\n",
    "in to capture non-gaussianity. The extreme case of this is to use a kernel\n",
    "density estimate as the prior (`NumericalPrior` in radvel). However this is\n",
    "a bit more computationally expensive and, in our case, there was a strong\n",
    "bimodality in the period posterior, which we might not want to force on the RV fit."
   ]
  },
  {
   "cell_type": "code",
   "execution_count": null,
   "id": "6b7439a4",
   "metadata": {},
   "outputs": [],
   "source": [
    "post = radvel.posterior.Posterior(like)"
   ]
  },
  {
   "cell_type": "code",
   "execution_count": null,
   "id": "06fd60cb",
   "metadata": {},
   "outputs": [],
   "source": [
    "post.priors += [radvel.prior.HardBounds(\"per1\", 10.0, 20.0)]\n",
    "post.priors += [radvel.prior.HardBounds(\"tc1\", tc_guess - 5, tc_guess + 5)]\n",
    "post.priors += [radvel.prior.HardBounds(\"k1\", 0.0, 5.0)]\n",
    "post.priors += [radvel.prior.Gaussian(\"gamma\", 0.0, 10.0)]\n",
    "post.priors += [radvel.prior.Jeffreys(\"gp_amp\", np.exp(-5), np.exp(5))]\n",
    "post.priors += [radvel.prior.Jeffreys(\"jit\", np.exp(-5), np.exp(5))]\n",
    "derived_unc = np.mean(np.abs(inf_post.quantile([0.16, 0.84]) - inf_post.quantile(0.5)))\n",
    "post.priors += [\n",
    "    radvel.prior.Gaussian(\n",
    "        \"gp_explength\",\n",
    "        inf_post.quantile(0.5)[\"gp_explength\"].item(),\n",
    "        derived_unc[\"gp_explength\"],\n",
    "    )\n",
    "]\n",
    "post.priors += [\n",
    "    radvel.prior.Gaussian(\n",
    "        \"gp_per\", inf_post.quantile(0.5)[\"gp_per\"].item(), derived_unc[\"gp_per\"]\n",
    "    )\n",
    "]\n",
    "# post.priors += [\n",
    "#     radvel.prior.NumericalPrior(\n",
    "#         \"gp_per\", inf_post.quantile(0.5)[\"gp_per\"].item(), derived_unc[\"gp_per\"]\n",
    "#     )\n",
    "# ]\n",
    "post.priors += [\n",
    "    radvel.prior.Gaussian(\n",
    "        \"gp_perlength\",\n",
    "        inf_post.quantile(0.5)[\"gp_perlength\"].item(),\n",
    "        derived_unc[\"gp_perlength\"],\n",
    "    )\n",
    "]"
   ]
  },
  {
   "cell_type": "code",
   "execution_count": null,
   "id": "041c0d44",
   "metadata": {},
   "outputs": [],
   "source": [
    "print(post)"
   ]
  },
  {
   "cell_type": "markdown",
   "id": "62d018a6",
   "metadata": {},
   "source": [
    "### Parameter Optimization\n",
    "That's it! We have a working RadVel model.\n",
    "We can plot the model with its initial parameter values below.\n",
    "Then we will optimize the model with scipy and plot the updated result."
   ]
  },
  {
   "cell_type": "code",
   "execution_count": null,
   "id": "c38090e1",
   "metadata": {},
   "outputs": [],
   "source": [
    "GPPlot = orbit_plots.GPMultipanelPlot(\n",
    "    post,\n",
    "    subtract_gp_mean_model=False,\n",
    "    plot_likelihoods_separately=False,\n",
    "    subtract_orbit_model=False,\n",
    ")\n",
    "GPPlot.plot_multipanel()\n",
    "plt.show()"
   ]
  },
  {
   "cell_type": "code",
   "execution_count": null,
   "id": "a5b13088",
   "metadata": {},
   "outputs": [],
   "source": [
    "res = op.minimize(\n",
    "    post.neglogprob_array,\n",
    "    post.get_vary_params(),\n",
    "    method=\"Powell\",\n",
    "    # options=dict(maxiter=200, maxfev=100000, xatol=1e-8)\n",
    ")\n",
    "print(res)"
   ]
  },
  {
   "cell_type": "code",
   "execution_count": null,
   "id": "17cc1a7e",
   "metadata": {},
   "outputs": [],
   "source": [
    "post.set_vary_params(res.x)\n",
    "print(post)"
   ]
  },
  {
   "cell_type": "code",
   "execution_count": null,
   "id": "92f4b37a",
   "metadata": {},
   "outputs": [],
   "source": [
    "GPPlot = orbit_plots.GPMultipanelPlot(\n",
    "    post,\n",
    "    subtract_gp_mean_model=False,\n",
    "    plot_likelihoods_separately=False,\n",
    "    subtract_orbit_model=False,\n",
    ")\n",
    "GPPlot.plot_multipanel()\n",
    "plt.show()"
   ]
  },
  {
   "cell_type": "markdown",
   "id": "7b4dc021",
   "metadata": {},
   "source": [
    "### Sampling the posterior\n",
    "Radvel includes a built-in MCMC sampler based on emcee.\n",
    "It is also possible to use `emcee` directly with the `post.logprob_array()` method.\n",
    "The built-in sampler is nice, but it is not as flexible as `emcee`.\n",
    "\n",
    "RadVel does not support nested sampling yet, but"
   ]
  },
  {
   "cell_type": "code",
   "execution_count": null,
   "id": "6eac32d4",
   "metadata": {},
   "outputs": [],
   "source": [
    "chains = radvel.mcmc(\n",
    "    post, nwalkers=32, nrun=10_000, ensembles=4, savename=\"rawchains.h5\"\n",
    ")"
   ]
  },
  {
   "cell_type": "code",
   "execution_count": null,
   "id": "1498c2f4",
   "metadata": {},
   "outputs": [],
   "source": [
    "chains.to_csv(\"radvel_chains.csv\")"
   ]
  },
  {
   "cell_type": "code",
   "execution_count": null,
   "id": "0074e966",
   "metadata": {},
   "outputs": [],
   "source": [
    "Corner = mcmc_plots.CornerPlot(post, chains)  # posterior distributions\n",
    "Corner.plot()"
   ]
  },
  {
   "cell_type": "code",
   "execution_count": null,
   "id": "b2d14dd6",
   "metadata": {},
   "outputs": [],
   "source": [
    "quants = chains.quantile(\n",
    "    [0.159, 0.5, 0.841]\n",
    ")  # median & 1sigma limits of posterior distributions\n",
    "for par in post.params.keys():\n",
    "    if post.params[par].vary:\n",
    "        med = quants[par][0.5]\n",
    "        high = quants[par][0.841] - med\n",
    "        low = med - quants[par][0.159]\n",
    "        err = np.mean([high, low])\n",
    "        err = radvel.utils.round_sig(err)\n",
    "        med, err, errhigh = radvel.utils.sigfig(med, err)\n",
    "        print(\"{} : {} +/- {}\".format(par, med, err))"
   ]
  },
  {
   "cell_type": "markdown",
   "id": "414bb8ea",
   "metadata": {},
   "source": [
    "We're done!\n",
    "\n",
    "Feel free to modify the code above. Here are a few ideas:\n",
    "- Try a different GP kernel (both in radvel and for the activity indicator).\n",
    "- Try building your own GP+planets plots instead of using the RadVel ones\n",
    "- Try different priors\n",
    "- Try a differnt orbit parametrization in RadVel\n",
    "- Test it on another dataset\n",
    "\n",
    "Ohter frameworks exist to perform the tasks above. Here are a few:\n",
    "- [Juliet](https://juliet.readthedocs.io/en/latest/): less easy to customize and play\n",
    "  with the model, but simpler interface and more samplers.\n",
    "- [exoplanet](https://docs.exoplanet.codes/en/latest/): built on top of PyMC3. This\n",
    "  makes creating flexible models very easy, PyMC computes gradients for your model\n",
    "  automatically. This enables using more advanced samplers such as Hamiltonian Monte\n",
    "  Carlo (HMC) easily.\n",
    "- [jaxoplanet](https://jax.exoplanet.codes/en/latest/): A version of `exoplanet`\n",
    "  built on top of `jax` and `numpyro`. These tools cover a similar niche to PyMC,\n",
    "  but the Jax interface is a bit more intuitive for Jax users, and it can run on GPUs.\n",
    "  However, `jaxoplanet` is still a WIP and it's not really documented yet.\n",
    "- Your own code! All of this is fairly simple to implement, you could try implementing\n",
    "  a code that does it from sratch, or use one that you already have. All the tools\n",
    "  I mentioend above are open source, so you can look at the code to understand\n",
    "  the details."
   ]
  }
 ],
 "metadata": {
  "jupytext": {
   "cell_metadata_filter": "-all",
   "main_language": "python",
   "notebook_metadata_filter": "-all"
  }
 },
 "nbformat": 4,
 "nbformat_minor": 5
}
